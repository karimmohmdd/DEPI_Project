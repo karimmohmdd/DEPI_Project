{
 "cells": [
  {
   "cell_type": "code",
   "execution_count": null,
   "id": "17c5782a",
   "metadata": {},
   "outputs": [],
   "source": [
    "import pandas as pd\n",
    "import numpy as np\n",
    "import matplotlib.pyplot as plt\n",
    "import seaborn as sns\n",
    "import plotly.express as px\n",
    "import plotly.graph_objects as go\n",
    "from plotly.subplots import make_subplots"
   ]
  },
  {
   "cell_type": "code",
   "execution_count": null,
   "id": "81251a31",
   "metadata": {},
   "outputs": [],
   "source": [
    "df = pd.read_csv(\"Cleaned Final.csv\")\n",
    "df.head()"
   ]
  },
  {
   "cell_type": "code",
   "execution_count": null,
   "id": "3fbc59cb",
   "metadata": {},
   "outputs": [],
   "source": [
    "pd.crosstab(df.HadHeartAttack,df.Sex)"
   ]
  },
  {
   "cell_type": "code",
   "execution_count": null,
   "id": "7c520b65",
   "metadata": {},
   "outputs": [],
   "source": [
    "ct = pd.crosstab(df.HadHeartAttack, df.Sex)\n",
    "plt.figure(figsize=(8, 4))\n",
    "sns.heatmap(ct, annot=True, fmt='d', cmap='Reds')\n",
    "plt.title('Heart Attacks by Sex')\n",
    "plt.show()"
   ]
  },
  {
   "cell_type": "code",
   "execution_count": null,
   "id": "60b9b189",
   "metadata": {},
   "outputs": [],
   "source": [
    "# Create the crosstab\n",
    "heartattack_gender = pd.crosstab(df['HadHeartAttack'], df['Sex'])\n",
    "print(\"Heart Attack by Gender Crosstab:\")\n",
    "print(heartattack_gender)"
   ]
  },
  {
   "cell_type": "code",
   "execution_count": null,
   "id": "55bf808d",
   "metadata": {},
   "outputs": [],
   "source": [
    "# Bar chart - Count comparison\n",
    "plt.figure(figsize=(10, 6))\n",
    "heartattack_gender.plot(kind='bar', color=['lightblue', 'lightpink'])\n",
    "plt.title('Heart Attack Prevalence by Gender - Count Comparison')\n",
    "plt.xlabel('Had Heart Attack (0=No, 1=Yes)')\n",
    "plt.ylabel('Number of People')\n",
    "plt.legend(title='Gender')\n",
    "plt.xticks(rotation=0)\n",
    "plt.grid(axis='y', alpha=0.3)\n",
    "plt.tight_layout()\n",
    "plt.show()"
   ]
  },
  {
   "cell_type": "code",
   "execution_count": null,
   "id": "aba646de",
   "metadata": {},
   "outputs": [],
   "source": [
    "pd.crosstab(df.HadHeartAttack,df.SleepHours)"
   ]
  },
  {
   "cell_type": "code",
   "execution_count": null,
   "id": "4ea2d96c",
   "metadata": {},
   "outputs": [],
   "source": [
    "# Create the crosstab\n",
    "sleep_heart = pd.crosstab(df['SleepHours'], df['HadHeartAttack'])\n",
    "\n",
    "# Convert to percentages by sleep hours for better comparison\n",
    "sleep_heart_pct = sleep_heart.div(sleep_heart.sum(axis=1), axis=0) * 100\n",
    "\n",
    "# Create the visualization\n",
    "plt.figure(figsize=(14, 8))\n",
    "\n",
    "# Plot 1: Heatmap of heart attack percentages by sleep hours\n",
    "plt.subplot(2, 1, 1)\n",
    "sns.heatmap(sleep_heart_pct.T, \n",
    "            annot=True, \n",
    "            fmt='.1f', \n",
    "            cmap='RdYlGn_r', \n",
    "            cbar_kws={'label': 'Heart Attack Rate (%)'},\n",
    "            linewidths=0.5)\n",
    "plt.title('Heart Attack Rate by Sleep Hours (Percentage Heatmap)', fontsize=14, fontweight='bold')\n",
    "plt.ylabel('Had Heart Attack\\n(0=No, 1=Yes)')\n",
    "plt.xlabel('Sleep Hours per Night')\n",
    "plt.yticks(rotation=0)\n",
    "\n",
    " "
   ]
  },
  {
   "cell_type": "code",
   "execution_count": null,
   "id": "1c70aa2c",
   "metadata": {},
   "outputs": [],
   "source": [
    "#44.4% FROM PEOPLE WHO HAVE ANGINA HAD HEART ATTACKS\n",
    "pd.crosstab(df.HadHeartAttack,df.HadAngina)"
   ]
  },
  {
   "cell_type": "code",
   "execution_count": null,
   "id": "31ade8fe",
   "metadata": {},
   "outputs": [],
   "source": [
    "ct = pd.crosstab(df.HadHeartAttack, df.HadAngina)\n",
    "\n",
    " # Sum across both conditions\n",
    "total_counts = ct.sum()\n",
    "\n",
    "plt.figure(figsize=(8, 8))\n",
    "total_counts.plot.pie(autopct='%1.1f%%', colors=['lightcoral', 'lightblue'])\n",
    "plt.title('Overall Angina Distribution')\n",
    "plt.ylabel('')  # Remove ylabel\n",
    "plt.show()"
   ]
  },
  {
   "cell_type": "code",
   "execution_count": null,
   "id": "7a30d6f8",
   "metadata": {},
   "outputs": [],
   "source": [
    "#Depressive disorder has almost no effect on heart attack rate\n",
    "pd.crosstab(df.HadHeartAttack,df.HadDepressiveDisorder)"
   ]
  },
  {
   "cell_type": "code",
   "execution_count": null,
   "id": "a53a254e",
   "metadata": {},
   "outputs": [],
   "source": [
    "fig, (ax1, ax2) = plt.subplots(1, 2, figsize=(12, 5))\n",
    "\n",
    "# Get the actual values from your data\n",
    "heart_attack_values = df['HadHeartAttack'].unique()\n",
    "depressive_values = df['HadDepressiveDisorder'].unique()\n",
    "\n",
    "# Use the first value as \"Yes\" equivalent, second as \"No\" equivalent\n",
    "ct.loc[heart_attack_values[0]].plot.pie(ax=ax1, autopct='%1.1f%%', colors=['lightcoral', 'lightblue'])\n",
    "ax1.set_title(f'Depressive Disorder - {heart_attack_values[0]} Heart Attack')\n",
    "\n",
    "ct.loc[heart_attack_values[1]].plot.pie(ax=ax2, autopct='%1.1f%%', colors=['lightcoral', 'lightblue'])\n",
    "ax2.set_title(f'Depressive Disorder - {heart_attack_values[1]} Heart Attack')\n",
    "\n",
    "plt.tight_layout()\n",
    "plt.show()"
   ]
  },
  {
   "cell_type": "code",
   "execution_count": null,
   "id": "2b830217",
   "metadata": {},
   "outputs": [],
   "source": [
    "# people who have diabetes has 336% higher chance of having heart attack\n",
    "pd.crosstab(df.HadHeartAttack,df.HadDiabetes)"
   ]
  },
  {
   "cell_type": "code",
   "execution_count": null,
   "id": "972a7cd6",
   "metadata": {},
   "outputs": [],
   "source": [
    "import plotly.express as px\n",
    "import plotly.graph_objects as go\n",
    "from plotly.subplots import make_subplots\n",
    "\n",
    " # Create crosstab\n",
    "ct = pd.crosstab(df.HadHeartAttack, df.HadDiabetes)\n",
    "\n",
    "# Interactive bar chart\n",
    "fig = px.bar(ct, barmode='group', title='Heart Attack vs Diabetes')\n",
    "fig.update_layout(\n",
    "    xaxis_title='Had Heart Attack',\n",
    "    yaxis_title='Count',\n",
    "    legend_title='Had Diabetes'\n",
    ")\n",
    "fig.show()"
   ]
  },
  {
   "cell_type": "code",
   "execution_count": null,
   "id": "03a84d40",
   "metadata": {},
   "outputs": [],
   "source": [
    "fig = px.imshow(ct, \n",
    "                text_auto=True,\n",
    "                color_continuous_scale='Blues',\n",
    "                title='Heart Attack vs Diabetes - Heatmap')\n",
    "fig.update_xaxes(title='Had Diabetes')\n",
    "fig.update_yaxes(title='Had Heart Attack')\n",
    "fig.show()"
   ]
  },
  {
   "cell_type": "code",
   "execution_count": null,
   "id": "ddebce3c",
   "metadata": {},
   "outputs": [],
   "source": [
    "pd.crosstab(df.HighRiskLastYear,df.HadDiabetes)"
   ]
  },
  {
   "cell_type": "code",
   "execution_count": null,
   "id": "61c6d22b",
   "metadata": {},
   "outputs": [],
   "source": [
    " # Create crosstab\n",
    "ct = pd.crosstab(df.HighRiskLastYear, df.HadDiabetes)\n",
    "\n",
    "# Interactive bar chart\n",
    "fig = px.bar(ct, barmode='group', \n",
    "             title='High Risk Last Year vs Diabetes',\n",
    "             labels={'value': 'Count', 'HighRiskLastYear': 'High Risk Last Year'})\n",
    "fig.update_layout(\n",
    "    xaxis_title='High Risk Last Year',\n",
    "    yaxis_title='Count', \n",
    "    legend_title='Had Diabetes'\n",
    ")\n",
    "fig.show()"
   ]
  },
  {
   "cell_type": "code",
   "execution_count": null,
   "id": "0baa1089",
   "metadata": {},
   "outputs": [],
   "source": [
    "pd.crosstab(df.HighRiskLastYear,df.TetanusLast10Tdap)"
   ]
  },
  {
   "cell_type": "code",
   "execution_count": null,
   "id": "0faede43",
   "metadata": {},
   "outputs": [],
   "source": [
    "# Convert to percentages\n",
    "ct_pct = ct.div(ct.sum(axis=1), axis=0) * 100\n",
    "\n",
    "fig = px.bar(ct_pct, barmode='stack',\n",
    "             title='High Risk Last Year vs Tetanus Vaccination (%)',\n",
    "             labels={'value': 'Percentage', 'HighRiskLastYear': 'High Risk Last Year'})\n",
    "fig.update_layout(\n",
    "    xaxis_title='High Risk Last Year',\n",
    "    yaxis_title='Percentage',\n",
    "    legend_title='Tetanus Vaccination'\n",
    ")\n",
    "fig.show()"
   ]
  },
  {
   "cell_type": "code",
   "execution_count": null,
   "id": "fe6578b5",
   "metadata": {},
   "outputs": [],
   "source": [
    "fig = make_subplots(rows=1, cols=2,\n",
    "                    specs=[[{'type':'domain'}, {'type':'domain'}]],\n",
    "                    subplot_titles=['High Risk', 'Not High Risk'])\n",
    "\n",
    "fig.add_trace(go.Pie(labels=ct.columns, values=ct.iloc[0], hole=0.4), 1, 1)\n",
    "fig.add_trace(go.Pie(labels=ct.columns, values=ct.iloc[1], hole=0.4), 1, 2)\n",
    "\n",
    "fig.update_traces(hoverinfo='label+percent+value')\n",
    "fig.update_layout(title_text=\"Tetanus Vaccination by High Risk Status\")\n",
    "fig.show()"
   ]
  },
  {
   "cell_type": "code",
   "execution_count": null,
   "id": "8814d86d",
   "metadata": {},
   "outputs": [],
   "source": [
    "pd.crosstab(df.HighRiskLastYear,df.FluVaxLast12)"
   ]
  },
  {
   "cell_type": "code",
   "execution_count": null,
   "id": "d25c8f95",
   "metadata": {},
   "outputs": [],
   "source": [
    "pd.crosstab(df.HighRiskLastYear,df.HIVTesting)"
   ]
  },
  {
   "cell_type": "code",
   "execution_count": null,
   "id": "dc376551",
   "metadata": {},
   "outputs": [],
   "source": [
    "pd.crosstab(df.PhysicalActivities,df.HadHeartAttack)"
   ]
  },
  {
   "cell_type": "code",
   "execution_count": null,
   "id": "9e397370",
   "metadata": {},
   "outputs": [],
   "source": [
    "plt.figure(figsize=(12,8))\n",
    "sns.countplot(x='HadDiabetes',hue=\"HadHeartAttack\",data=df,palette=['#1CA53B',\"red\"])\n",
    "plt.legend([\"didn't have heart attack\",\"Had heart attack\"])\n",
    "plt.title(\"Heart attack frequency for people who had diabetes\")\n",
    "plt.xlabel(\"had diabetes\")\n",
    "plt.ylabel(\"heart attack\")\n",
    "plt.show()"
   ]
  },
  {
   "cell_type": "code",
   "execution_count": null,
   "id": "5e310fa5",
   "metadata": {},
   "outputs": [],
   "source": [
    "#people of older age face higher risk of heart attacks\n",
    "plt.figure(figsize=(12,8))\n",
    "sns.countplot(x='AgeCategory',hue=\"HadHeartAttack\",data=df,palette=['#1CA53B',\"red\"])\n",
    "plt.legend([\"didn't have heart attack\",\"Had heart attack\"])\n",
    "plt.title(\"Heart attack frequency for people of different age groups\")\n",
    "plt.xlabel(\"AGE\")\n",
    "plt.ylabel(\"heart attack\")\n",
    "plt.show()"
   ]
  },
  {
   "cell_type": "code",
   "execution_count": null,
   "id": "7cad438d",
   "metadata": {},
   "outputs": [],
   "source": [
    "#people of older age face higher risk of heart attacks\n",
    "plt.figure(figsize=(12,8))\n",
    "sns.countplot(x='AgeCategory',hue=\"HadStroke\",data=df,palette=['#1CA53B',\"red\"])\n",
    "plt.legend([\"didn't have stroke\",\"Had stroke\"])\n",
    "plt.title(\"stroke probability for people of different age groups\")\n",
    "plt.xlabel(\"AGE\")\n",
    "plt.ylabel(\"stroke\")\n",
    "plt.show()"
   ]
  },
  {
   "cell_type": "code",
   "execution_count": null,
   "id": "9cee754c",
   "metadata": {},
   "outputs": [],
   "source": [
    "#higher probability of heart attack for smokers\n",
    "pd.crosstab(df.SmokerStatus,df.HadHeartAttack)"
   ]
  },
  {
   "cell_type": "code",
   "execution_count": null,
   "id": "c581b109-3a40-4141-a759-8b597f31343b",
   "metadata": {},
   "outputs": [],
   "source": [
    "crosstab_data = pd.crosstab(df.SmokerStatus,df.HadHeartAttack)\n",
    "plt.figure(figsize=(8, 6))\n",
    "sns.heatmap(crosstab_data, annot=True, fmt='d', cmap='Reds', cbar_kws={'label': 'Count'})\n",
    "plt.title('Smoking Status vs Heart Attacks - Heatmap', fontsize=16, fontweight='bold')\n",
    "plt.xlabel('Had Heart Attack (0=No, 1=Yes)')\n",
    "plt.ylabel('Smoking Status')\n",
    "plt.tight_layout()\n",
    "plt.show()"
   ]
  },
  {
   "cell_type": "code",
   "execution_count": null,
   "id": "9ff8782c",
   "metadata": {},
   "outputs": [],
   "source": [
    "df['GeneralHealth'].value_counts(normalize=True) * 100\n"
   ]
  },
  {
   "cell_type": "code",
   "execution_count": null,
   "id": "563b8c17-65f8-4816-be25-ea878850fa9b",
   "metadata": {},
   "outputs": [],
   "source": [
    "plt.figure(figsize=(6,6))\n",
    "df['GeneralHealth'].value_counts(normalize=True).mul(100).plot(kind='pie',autopct='%.1f%%',\n",
    "    startangle=90,\n",
    "    colors=sns.color_palette('Set1'))\n",
    "plt.title('General Health Distribution', fontsize=16, fontweight='bold')\n",
    "plt.ylabel('')\n",
    "plt.show()\n"
   ]
  },
  {
   "cell_type": "code",
   "execution_count": null,
   "id": "80b8c3a6",
   "metadata": {},
   "outputs": [],
   "source": [
    "diseases = ['HadDiabetes', 'HadHeartAttack', 'HadStroke', 'HadDepressiveDisorder']\n",
    "(df[diseases] == 'Yes').mean() * 100"
   ]
  },
  {
   "cell_type": "code",
   "execution_count": null,
   "id": "1726e259",
   "metadata": {},
   "outputs": [],
   "source": [
    "df.groupby('GeneralHealth')['SleepHours'].mean().sort_values(ascending=False)\n"
   ]
  },
  {
   "cell_type": "code",
   "execution_count": null,
   "id": "372e412e-4258-4033-bbb5-f37b518bcf0f",
   "metadata": {},
   "outputs": [],
   "source": [
    "sleep_df = df.groupby('GeneralHealth')['SleepHours'].mean().reset_index()\n",
    "sleep_df.columns = ['GeneralHealth', 'AverageSleepHours']\n",
    "colors = ['green', 'lightgreen', 'gold', 'orange', 'red']\n",
    "fig = px.bar(\n",
    "    sleep_df,\n",
    "    x='GeneralHealth',\n",
    "    y='AverageSleepHours',\n",
    "    title='Average Sleep Hours by General Health Status',\n",
    "    labels={'AverageSleepHours': 'Average Sleep Hours', 'GeneralHealth': 'General Health'},\n",
    "    color='GeneralHealth',\n",
    "    color_discrete_map=dict(zip(sleep_df['GeneralHealth'].unique(), colors))\n",
    ")\n",
    "\n",
    "fig.update_layout(\n",
    "    showlegend=False,\n",
    "    xaxis=dict(tickangle=-45),\n",
    "    title=dict(font=dict(size=14, weight='bold')),\n",
    "    xaxis_title=dict(font=dict(size=12)),\n",
    "    yaxis_title=dict(font=dict(size=14)),\n",
    "    width=800,\n",
    "    height=600\n",
    ")\n",
    "\n",
    "fig.show()\n"
   ]
  },
  {
   "cell_type": "code",
   "execution_count": null,
   "id": "5d92ca32",
   "metadata": {},
   "outputs": [],
   "source": [
    "df.groupby('GeneralHealth')['BMI'].mean().sort_values(ascending=False)\n"
   ]
  },
  {
   "cell_type": "code",
   "execution_count": null,
   "id": "d8b37297-6a70-450b-ae57-117f32904c96",
   "metadata": {},
   "outputs": [],
   "source": [
    "bmi_by_health = df.groupby('GeneralHealth')['BMI'].mean().sort_values(ascending=False)\n",
    "\n",
    "colors = ['green', 'lightgreen', 'gold', 'orange', 'red'] \n",
    "plt.figure(figsize=(10, 6))\n",
    "bars = plt.bar(bmi_by_health.index, bmi_by_health.values, color=colors, edgecolor='black')\n",
    "plt.title('Average BMI by General Health Status', fontsize=14, fontweight='bold')\n",
    "plt.xlabel('General Health', fontsize=12)\n",
    "plt.ylabel('Average BMI', fontsize=12)\n",
    "plt.xticks(rotation=45)\n",
    "for bar in bars:\n",
    "    height = bar.get_height()\n",
    "    plt.text(bar.get_x() + bar.get_width()/2., height,\n",
    "             f'{height:.1f}',ha='center', va='bottom', fontweight='bold')\n",
    "plt.axhline(y=18.5, color='blue', linestyle='--', alpha=0.9, label='Underweight')\n",
    "plt.axhline(y=25, color='green', linestyle='--', alpha=0.9, label='Normal')\n",
    "plt.axhline(y=30, color='orange', linestyle='--', alpha=0.9, label='Obese')\n",
    "\n",
    "plt.legend()\n",
    "plt.grid(axis='y', alpha=0.2)\n",
    "plt.tight_layout()\n",
    "plt.show()"
   ]
  },
  {
   "cell_type": "code",
   "execution_count": null,
   "id": "8405ae40",
   "metadata": {},
   "outputs": [],
   "source": [
    "df.groupby('PhysicalActivities')['MentalHealthDays'].mean()\n"
   ]
  },
  {
   "cell_type": "code",
   "execution_count": null,
   "id": "67df4ae6-a5b6-4689-953f-85ec373777be",
   "metadata": {},
   "outputs": [],
   "source": [
    "mental_by_activity = df.groupby('PhysicalActivities')['MentalHealthDays'].mean()\n",
    "\n",
    "plt.figure(figsize=(8, 6))\n",
    "bars = plt.bar(mental_by_activity.index, mental_by_activity.values, \n",
    "               color=['red', 'blue'], alpha=0.7, edgecolor='black')\n",
    "plt.title('Average Mental Health Days by Physical Activity', fontsize=14, fontweight='bold')\n",
    "plt.xlabel('Physical Activity (0=No, 1=Yes)', fontsize=12)\n",
    "plt.ylabel('Average Mental Health Days', fontsize=12)\n",
    "for bar in bars:\n",
    "    height = bar.get_height()\n",
    "    plt.text(bar.get_x() + bar.get_width()/2., height,\n",
    "             f'{height:.1f} days',\n",
    "             ha='center', va='bottom', fontweight='bold', fontsize=11)\n",
    "plt.grid(axis='y', alpha=0.3)\n",
    "plt.tight_layout()\n",
    "plt.show()"
   ]
  },
  {
   "cell_type": "code",
   "execution_count": null,
   "id": "cd0201b9",
   "metadata": {},
   "outputs": [],
   "source": [
    "df.groupby('Sex')['SmokerStatus'].value_counts(normalize=True).unstack().fillna(0) * 100"
   ]
  },
  {
   "cell_type": "code",
   "execution_count": null,
   "id": "b2c61651-a921-4c2e-b17c-e50ff1aaf258",
   "metadata": {},
   "outputs": [],
   "source": [
    "ct = df.groupby('Sex')['SmokerStatus'].value_counts(normalize=True).unstack().fillna(0) * 100\n",
    "fig = px.bar(ct, barmode='group',  title='Smoking Status by Gender (%)',labels={'value': 'Percentage', 'Sex': 'Gender'})\n",
    "fig.update_layout(\n",
    "    xaxis_title='Gender',\n",
    "    yaxis_title='Percentage (%)', \n",
    "    legend_title='Smoking Status')\n",
    "fig.show()"
   ]
  },
  {
   "cell_type": "code",
   "execution_count": null,
   "id": "70769fe6",
   "metadata": {},
   "outputs": [],
   "source": [
    "df.groupby('AgeCategory')['BMI'].mean()\n"
   ]
  },
  {
   "cell_type": "code",
   "execution_count": null,
   "id": "3afb652c-288a-4de1-ba75-ccdf7b795698",
   "metadata": {},
   "outputs": [],
   "source": [
    "bmi_by_age = df.groupby('AgeCategory')['BMI'].mean().reset_index()\n",
    "\n",
    "fig = px.line(bmi_by_age, x='AgeCategory', y='BMI',\n",
    "              title='Average BMI by Age Category',markers=True,line_shape='linear')\n",
    "fig.update_layout(\n",
    "    xaxis_title='Age Category',\n",
    "    yaxis_title='Average BMI',\n",
    "    xaxis={'categoryorder': 'array', 'categoryarray': sorted(bmi_by_age['AgeCategory'])}\n",
    ")\n",
    "fig.show()"
   ]
  },
  {
   "cell_type": "code",
   "execution_count": null,
   "id": "27232860",
   "metadata": {},
   "outputs": [],
   "source": [
    "df[['SleepHours', 'MentalHealthDays']].corr()\n"
   ]
  },
  {
   "cell_type": "code",
   "execution_count": null,
   "id": "b6acda11-1e5c-48bd-8f74-62cdbcc837de",
   "metadata": {},
   "outputs": [],
   "source": [
    "fig = px.scatter(df, \n",
    "    x='SleepHours', \n",
    "    y='MentalHealthDays', trendline='ols',\n",
    "    title='Relationship Between Sleep Hours and Mental Health Days',\n",
    "    labels={'SleepHours': 'Sleep Hours', 'MentalHealthDays': 'Mental Health Days'},\n",
    "    color='SleepHours')\n",
    "fig.update_traces(hovertemplate='Sleep: %{x} hrs<br>Mental Days: %{y}<extra></extra>')\n",
    "fig.show()\n"
   ]
  },
  {
   "cell_type": "code",
   "execution_count": null,
   "id": "3a42672b",
   "metadata": {},
   "outputs": [],
   "source": [
    "df[['BMI', 'PhysicalHealthDays']].corr()\n"
   ]
  },
  {
   "cell_type": "code",
   "execution_count": null,
   "id": "303b321a-4879-4706-9d19-f67ae3ef5bff",
   "metadata": {},
   "outputs": [],
   "source": [
    "df['BMI_Category'] = pd.cut(df['BMI'], bins=[0, 18.5, 25, 30, 100],\n",
    "labels=['Underweight', 'Normal', 'Overweight', 'Obese'])\n",
    "fig = px.box(\n",
    "    df,\n",
    "    x='BMI_Category',\n",
    "    y='PhysicalHealthDays',\n",
    "    color='BMI_Category',\n",
    "    title='Physical Health Days by BMI Category',\n",
    "    labels={'BMI_Category': 'BMI Category', 'PhysicalHealthDays': 'Physical Health Days'})\n",
    "fig.show()\n"
   ]
  },
  {
   "cell_type": "code",
   "execution_count": null,
   "id": "f540423c",
   "metadata": {},
   "outputs": [],
   "source": [
    "(df[df['HadDiabetes'] == 'Yes']\n",
    " .groupby('AgeCategory')['HadDiabetes']\n",
    " .count() / df.groupby('AgeCategory')['HadDiabetes'].count()) * 100\n"
   ]
  },
  {
   "cell_type": "code",
   "execution_count": null,
   "id": "f050f3ce",
   "metadata": {},
   "outputs": [],
   "source": [
    "df[df['GeneralHealth'] == 'Poor']['BMI'].mean()\n",
    "plt.figure(figsize=(8,5))\n",
    "sns.barplot(data=df, x='GeneralHealth', y='BMI', hue='GeneralHealth', errorbar=None, palette='Set2', legend=False)\n",
    "plt.title('Average BMI by General Health')\n",
    "plt.xlabel('General Health')\n",
    "plt.ylabel('Average BMI')\n",
    "plt.xticks(rotation=30)\n",
    "plt.tight_layout()\n",
    "plt.show()\n"
   ]
  },
  {
   "cell_type": "code",
   "execution_count": null,
   "id": "c4b839ac",
   "metadata": {},
   "outputs": [],
   "source": [
    "pd.crosstab(df.HadHeartAttack, df.HadDiabetes, normalize='columns') * 100\n"
   ]
  },
  {
   "cell_type": "code",
   "execution_count": null,
   "id": "e498dea7-2ae5-49c8-a6ca-2b6ea32b9fa6",
   "metadata": {},
   "outputs": [],
   "source": [
    "ct = pd.crosstab(df.HadHeartAttack, df.HadDiabetes, normalize='columns') * 100\n",
    "ct_df = ct.reset_index()\n",
    "ct_df = ct_df.melt(id_vars='HadHeartAttack',var_name='HadDiabetes', value_name='Percentage')\n",
    "fig = px.bar(ct_df,\n",
    "             x='HadHeartAttack',y='Percentage', color='HadDiabetes', barmode='group',\n",
    "             title='Heart Attack vs Diabetes')\n",
    "fig.update_layout(\n",
    "    xaxis_title='Had Heart Attack',\n",
    "    yaxis_title='Percentage',\n",
    "    legend_title='Had Diabetes')\n",
    "fig.show()"
   ]
  },
  {
   "cell_type": "code",
   "execution_count": null,
   "id": "45278dbb",
   "metadata": {},
   "outputs": [],
   "source": [
    "pd.crosstab(df.HadHeartAttack, df.Sex, normalize='columns') * 100\n"
   ]
  },
  {
   "cell_type": "code",
   "execution_count": null,
   "id": "dc71c8bc-3bd5-4131-8cf0-80e95869a414",
   "metadata": {},
   "outputs": [],
   "source": [
    "ct = pd.crosstab(df.HadHeartAttack, df.Sex, normalize='columns') * 100\n",
    "ct_df = ct.reset_index()\n",
    "ct_df = ct_df.melt(id_vars='HadHeartAttack', \n",
    "                   var_name='Sex', \n",
    "                   value_name='Percentage')\n",
    "ct_df['HeartAttack_Label'] = ct_df['HadHeartAttack'].map({0: 'No', 1: 'Yes'})\n",
    "fig = px.bar(ct_df, x='HeartAttack_Label',y='Percentage', color='Sex',\n",
    "             barmode='group',\n",
    "             title='Heart Attack vs Gender')\n",
    "fig.update_layout(  xaxis_title='Had Heart Attack',\n",
    "    yaxis_title='Percentage',legend_title='Gender'\n",
    ")\n",
    "fig.show()"
   ]
  },
  {
   "cell_type": "code",
   "execution_count": null,
   "id": "e7f575a0",
   "metadata": {},
   "outputs": [],
   "source": [
    "pd.crosstab(df.HadStroke, df.HadHeartAttack, normalize='columns') * 100\n"
   ]
  },
  {
   "cell_type": "code",
   "execution_count": null,
   "id": "fe4d14d8-a313-4e6c-8238-e6ce75b61b9f",
   "metadata": {},
   "outputs": [],
   "source": [
    "ct = pd.crosstab(df.HadStroke, df.HadHeartAttack, normalize='columns') * 100\n",
    "ct_df = ct.reset_index()\n",
    "ct_df = ct_df.melt(id_vars='HadStroke', \n",
    "                   var_name='HadHeartAttack',value_name='Percentage')\n",
    "ct_df['Stroke_Label'] = ct_df['HadStroke'].map({0: 'No', 1: 'Yes'})\n",
    "ct_df['HeartAttack_Label'] = ct_df['HadHeartAttack'].map({0: 'No', 1: 'Yes'})\n",
    "fig = px.bar(ct_df,x='HeartAttack_Label',y='Percentage',\n",
    "             color='Stroke_Label',barmode='group',\n",
    "             title='Stroke Prevalence by Heart Attack Status (%)',\n",
    "             text=ct_df['Percentage'].apply(lambda x: f'{x:.1f}%'))\n",
    "fig.update_layout( xaxis_title='Had Heart Attack',\n",
    "    yaxis_title='Percentage (%)',  legend_title='Had Stroke'\n",
    ")\n",
    "fig.show()"
   ]
  },
  {
   "cell_type": "code",
   "execution_count": null,
   "id": "a03c93be",
   "metadata": {},
   "outputs": [],
   "source": [
    "pd.crosstab(df.HadAsthma, df.SmokerStatus, normalize='columns') * 100\n"
   ]
  },
  {
   "cell_type": "code",
   "execution_count": null,
   "id": "a834372d-57ef-4381-bff6-646e2fdc3010",
   "metadata": {},
   "outputs": [],
   "source": [
    "ct = pd.crosstab(df.HadAsthma, df.SmokerStatus, normalize='columns') * 100\n",
    "ct_df = ct.reset_index()\n",
    "ct_df = ct_df.melt(id_vars='HadAsthma',  var_name='SmokerStatus', value_name='Percentage')\n",
    "fig = px.bar(ct_df,\n",
    "             y='SmokerStatus',x='Percentage',color='HadAsthma',orientation='h',barmode='group',\n",
    "            title='Asthma vs Smoking Status')\n",
    "fig.update_layout(\n",
    "    yaxis_title='Smoker Status',\n",
    "    xaxis_title='Percentage',)\n",
    "fig.show()"
   ]
  },
  {
   "cell_type": "code",
   "execution_count": null,
   "id": "4d69d804",
   "metadata": {},
   "outputs": [],
   "source": [
    "pd.crosstab(df.HadDepressiveDisorder, df.PhysicalActivities, normalize='columns') * 100\n"
   ]
  },
  {
   "cell_type": "code",
   "execution_count": null,
   "id": "b1d88fbe-20f0-4bd3-81a4-984ed802d3f5",
   "metadata": {},
   "outputs": [],
   "source": [
    "cross_tab = pd.crosstab(df['HadDepressiveDisorder'], df['PhysicalActivities'], normalize='columns') * 100\n",
    "cross_tab_reset = cross_tab.reset_index().melt(id_vars='HadDepressiveDisorder', var_name='PhysicalActivities', value_name='Percentage')\n",
    "\n",
    "fig = px.bar(\n",
    "    cross_tab_reset,\n",
    "    x='PhysicalActivities',\n",
    "    y='Percentage',\n",
    "    color='HadDepressiveDisorder',\n",
    "    barmode='group',\n",
    "    title='Relation between Physical Activities and Depressive Disorder (%)',\n",
    "    text='Percentage',\n",
    "    color_discrete_sequence=px.colors.qualitative.Set2\n",
    ")\n",
    "\n",
    "fig.update_traces(texttemplate='%{text:.1f}%', textposition='outside')\n",
    "fig.update_layout(yaxis_title='Percentage (%)', xaxis_title='Physical Activities', plot_bgcolor='white', font=dict(size=14))\n",
    "fig.show()"
   ]
  },
  {
   "cell_type": "code",
   "execution_count": null,
   "id": "b228e6da",
   "metadata": {},
   "outputs": [],
   "source": [
    "pd.crosstab(df.HadCOPD, df.SmokerStatus, normalize='columns') * 100\n"
   ]
  },
  {
   "cell_type": "code",
   "execution_count": null,
   "id": "e062906f-6d71-4df0-8705-1bb5e8930305",
   "metadata": {},
   "outputs": [],
   "source": [
    "cross_tab = pd.crosstab(df['HadCOPD'], df['SmokerStatus'], normalize='columns') * 100\n",
    "cross_tab_reset = cross_tab.reset_index().melt(id_vars='HadCOPD', var_name='SmokerStatus', value_name='Percentage')\n",
    "\n",
    "fig = px.bar(\n",
    "    cross_tab_reset,\n",
    "    x='SmokerStatus',\n",
    "    y='Percentage',\n",
    "    color='HadCOPD',\n",
    "    barmode='group',\n",
    "    title='Relation between Smoker Status and COPD (%)',\n",
    "    text='Percentage',\n",
    "    color_discrete_sequence=px.colors.qualitative.Pastel1  \n",
    ")\n",
    "\n",
    "fig.update_traces(\n",
    "    texttemplate='%{text:.1f}%',\n",
    "    textposition='inside',\n",
    "    insidetextanchor='middle'\n",
    ")\n",
    "\n",
    "fig.update_layout(\n",
    "    title_font=dict(size=20, family='Arial', color='#333'),\n",
    "    xaxis_title='Smoker Status',\n",
    "    yaxis_title='Percentage (%)',\n",
    "    plot_bgcolor='#f9f9f9',\n",
    "    paper_bgcolor='white',\n",
    "    font=dict(size=14, color='#333'),\n",
    "    bargap=0.25,\n",
    "    showlegend=True,\n",
    "    legend_title_text='Had COPD',\n",
    "    title_x=0.5  \n",
    ")\n",
    "\n",
    "fig.show()\n"
   ]
  },
  {
   "cell_type": "code",
   "execution_count": null,
   "id": "ad1e967b",
   "metadata": {},
   "outputs": [],
   "source": [
    "pd.crosstab(pd.cut(df.BMI, bins=[0,18.5,25,30,35,100], labels=['Underweight','Normal','Overweight','Obese','Severe Obese']), \n",
    "            df.HadDiabetes, normalize='columns') * 100\n"
   ]
  },
  {
   "cell_type": "code",
   "execution_count": null,
   "id": "d4d97acd-fc73-425b-87b9-b6612f1d08bb",
   "metadata": {},
   "outputs": [],
   "source": [
    "bmi_bins = pd.cut(\n",
    "    df['BMI'],\n",
    "    bins=[0, 18.5, 25, 30, 35, 100],\n",
    "    labels=['Underweight', 'Normal', 'Overweight', 'Obese', 'Severe Obese']\n",
    ")\n",
    "\n",
    "cross_tab = pd.crosstab(bmi_bins, df['HadDiabetes'], normalize='columns') * 100\n",
    "cross_tab_reset = cross_tab.reset_index().melt(id_vars='BMI', var_name='HadDiabetes', value_name='Percentage')\n",
    "\n",
    "fig = px.bar(\n",
    "    cross_tab_reset,\n",
    "    x='BMI',\n",
    "    y='Percentage',\n",
    "    color='HadDiabetes',\n",
    "    barmode='stack',\n",
    "    title='Relation between BMI Category and Diabetes (%)',\n",
    "    text='Percentage',\n",
    "    color_discrete_sequence=['#2E86AB', '#F4B400']\n",
    ")\n",
    "\n",
    "fig.update_traces(texttemplate='%{text:.1f}%', textposition='inside')\n",
    "fig.update_layout(\n",
    "    yaxis_title='Percentage (%)',\n",
    "    xaxis_title='BMI Category',\n",
    "    plot_bgcolor='white',\n",
    "    font=dict(size=14),\n",
    "    xaxis_tickangle=0,\n",
    "    legend_title_text='Had Diabetes'\n",
    ")\n",
    "\n",
    "fig.show()"
   ]
  },
  {
   "cell_type": "code",
   "execution_count": null,
   "id": "25a1e474",
   "metadata": {},
   "outputs": [],
   "source": [
    "pd.crosstab(df.PhysicalActivities, df.GeneralHealth, normalize='index') * 100\n"
   ]
  },
  {
   "cell_type": "code",
   "execution_count": null,
   "id": "a7877302-15ec-46bc-b670-efa6df7e4773",
   "metadata": {},
   "outputs": [],
   "source": [
    "cross_tab = pd.crosstab(df['PhysicalActivities'], df['GeneralHealth'], normalize='index') * 100\n",
    "cross_tab_reset = cross_tab.reset_index().melt(id_vars='PhysicalActivities', var_name='GeneralHealth', value_name='Percentage')\n",
    "\n",
    "fig = px.bar(\n",
    "    cross_tab_reset,\n",
    "    x='PhysicalActivities',\n",
    "    y='Percentage',\n",
    "    color='GeneralHealth',\n",
    "    barmode='stack',\n",
    "    title='General Health Distribution by Physical Activity (%)',\n",
    "    text='Percentage',\n",
    "    color_discrete_sequence=px.colors.qualitative.Set2\n",
    ")\n",
    "\n",
    "fig.update_traces(texttemplate='%{text:.1f}%', textposition='inside')\n",
    "fig.update_layout(\n",
    "    yaxis_title='Percentage (%)',\n",
    "    xaxis_title='Physical Activities',\n",
    "    plot_bgcolor='white',\n",
    "    font=dict(size=14),\n",
    "    xaxis_tickangle=0,\n",
    "    legend_title_text='General Health'\n",
    ")\n",
    "\n",
    "fig.show()"
   ]
  },
  {
   "cell_type": "code",
   "execution_count": null,
   "id": "a9a113c0",
   "metadata": {},
   "outputs": [],
   "source": [
    "df.groupby('GeneralHealth')['SleepHours'].mean()\n"
   ]
  },
  {
   "cell_type": "code",
   "execution_count": null,
   "id": "c9aebb8b-7513-4682-bd93-c05d6fffe36e",
   "metadata": {},
   "outputs": [],
   "source": [
    "mean_sleep = df.groupby('GeneralHealth')['SleepHours'].mean().reset_index()\n",
    "\n",
    "plt.figure(figsize=(8,5))\n",
    "sns.barplot(data=mean_sleep, x='GeneralHealth', y='SleepHours', hue='GeneralHealth', palette='Set2', legend=False)\n",
    "\n",
    "plt.title('Average Sleep Hours by General Health')\n",
    "plt.xlabel('General Health')\n",
    "plt.ylabel('Average Sleep Hours')\n",
    "plt.xticks(rotation=0)\n",
    "plt.tight_layout()\n",
    "plt.show()"
   ]
  },
  {
   "cell_type": "code",
   "execution_count": null,
   "id": "284e334c",
   "metadata": {},
   "outputs": [],
   "source": [
    "pd.crosstab(df.HadStroke, df.AgeCategory, normalize='columns') * 100\n"
   ]
  },
  {
   "cell_type": "code",
   "execution_count": null,
   "id": "5463f8b1-dd97-4f63-88a0-f02849797009",
   "metadata": {},
   "outputs": [],
   "source": [
    "cross_tab = pd.crosstab(df['HadStroke'], df['AgeCategory'], normalize='columns') * 100\n",
    "cross_tab_reset = cross_tab.reset_index().melt(id_vars='HadStroke', var_name='AgeCategory', value_name='Percentage')\n",
    "\n",
    "fig = px.bar(\n",
    "    cross_tab_reset,\n",
    "    x='AgeCategory',\n",
    "    y='Percentage',\n",
    "    color='HadStroke',\n",
    "    barmode='stack',\n",
    "    title='Stroke Percentage by Age Category',\n",
    "    text='Percentage',\n",
    "    color_discrete_sequence=['#2E86AB', '#F4B400']\n",
    ")\n",
    "\n",
    "fig.update_traces(texttemplate='%{text:.1f}%', textposition='inside')\n",
    "fig.update_layout(\n",
    "    yaxis_title='Percentage (%)',\n",
    "    xaxis_title='Age Category',\n",
    "    plot_bgcolor='white',\n",
    "    font=dict(size=14),\n",
    "    xaxis_tickangle=45,\n",
    "    legend_title_text='Had Stroke'\n",
    ")\n",
    "\n",
    "fig.show()"
   ]
  },
  {
   "cell_type": "code",
   "execution_count": null,
   "id": "22b1da48",
   "metadata": {},
   "outputs": [],
   "source": [
    "pd.crosstab(df.HadHeartAttack, df.AgeCategory, normalize='columns') * 100\n"
   ]
  },
  {
   "cell_type": "code",
   "execution_count": null,
   "id": "888e8433-60bb-44e9-9b31-40239ad89623",
   "metadata": {},
   "outputs": [],
   "source": [
    "cross_tab = pd.crosstab(df['HadHeartAttack'], df['AgeCategory'], normalize='columns') * 100\n",
    "cross_tab_reset = cross_tab.reset_index().melt(id_vars='HadHeartAttack', var_name='AgeCategory', value_name='Percentage')\n",
    "\n",
    "fig = px.bar(\n",
    "    cross_tab_reset,\n",
    "    x='AgeCategory',\n",
    "    y='Percentage',\n",
    "    color='HadHeartAttack',\n",
    "    barmode='stack',\n",
    "    title='Heart Attack Percentage by Age Category',\n",
    "    text='Percentage',\n",
    "    color_discrete_sequence=['#2E86AB', '#F4B400']\n",
    ")\n",
    "\n",
    "fig.update_traces(texttemplate='%{text:.1f}%', textposition='inside')\n",
    "fig.update_layout(\n",
    "    yaxis_title='Percentage (%)',\n",
    "    xaxis_title='Age Category',\n",
    "    plot_bgcolor='white',\n",
    "    font=dict(size=14),\n",
    "    xaxis_tickangle=45,\n",
    "    legend_title_text='Had Heart Attack'\n",
    ")\n",
    "\n",
    "fig.show()\n"
   ]
  },
  {
   "cell_type": "code",
   "execution_count": null,
   "id": "348c95d9",
   "metadata": {},
   "outputs": [],
   "source": [
    "pd.crosstab(df.HadDiabetes, df.PhysicalActivities, normalize='columns') * 100\n"
   ]
  },
  {
   "cell_type": "code",
   "execution_count": null,
   "id": "ced6018d-bfd2-44eb-83af-9e8e91c8198e",
   "metadata": {},
   "outputs": [],
   "source": [
    "cross_tab = pd.crosstab(df['HadDiabetes'], df['PhysicalActivities'], normalize='columns') * 100\n",
    "cross_tab_reset = cross_tab.reset_index().melt(id_vars='HadDiabetes', var_name='PhysicalActivities', value_name='Percentage')\n",
    "\n",
    "fig = px.bar(\n",
    "    cross_tab_reset,\n",
    "    x='PhysicalActivities',\n",
    "    y='Percentage',\n",
    "    color='HadDiabetes',\n",
    "    barmode='stack',\n",
    "    title='Diabetes Percentage by Physical Activity (%)',\n",
    "    text='Percentage',\n",
    "    color_discrete_sequence=['#2E86AB', '#F4B400']\n",
    ")\n",
    "\n",
    "fig.update_traces(texttemplate='%{text:.1f}%', textposition='inside')\n",
    "fig.update_layout(\n",
    "    yaxis_title='Percentage (%)',\n",
    "    xaxis_title='Physical Activities',\n",
    "    plot_bgcolor='white',\n",
    "    font=dict(size=14),\n",
    "    xaxis_tickangle=0,\n",
    "    legend_title_text='Had Diabetes'\n",
    ")\n",
    "\n",
    "fig.show()\n"
   ]
  },
  {
   "cell_type": "code",
   "execution_count": null,
   "id": "40a7fff6",
   "metadata": {},
   "outputs": [],
   "source": [
    "df.groupby('HadDepressiveDisorder')['MentalHealthDays'].mean()\n"
   ]
  },
  {
   "cell_type": "code",
   "execution_count": null,
   "id": "a1c72bc3-e4f7-4ddf-a734-922fbfdc4f97",
   "metadata": {},
   "outputs": [],
   "source": [
    "mean_mental = df.groupby('HadDepressiveDisorder')['MentalHealthDays'].mean().reset_index()\n",
    "\n",
    "plt.figure(figsize=(6,5))\n",
    "sns.barplot(data=mean_mental, x='HadDepressiveDisorder', y='MentalHealthDays', hue='HadDepressiveDisorder', palette='Set2', legend=False)\n",
    "\n",
    "plt.title('Average Mental Health Days by Depressive Disorder')\n",
    "plt.xlabel('Had Depressive Disorder')\n",
    "plt.ylabel('Average Mental Health Days')\n",
    "\n",
    "for i, val in enumerate(mean_mental['MentalHealthDays']):\n",
    "    plt.text(i, val + 0.3, f'{val:.1f}', ha='center', fontsize=11)\n",
    "\n",
    "plt.tight_layout()\n",
    "plt.show()\n"
   ]
  },
  {
   "cell_type": "code",
   "execution_count": null,
   "id": "d77d21da",
   "metadata": {},
   "outputs": [],
   "source": [
    "pd.crosstab(df.HadKidneyDisease, df.HadDiabetes, normalize='columns') * 100\n"
   ]
  },
  {
   "cell_type": "code",
   "execution_count": null,
   "id": "cfefcc3d-ecc8-43d6-8897-e84ddc91ba27",
   "metadata": {},
   "outputs": [],
   "source": [
    "cross_tab = pd.crosstab(df['HadKidneyDisease'], df['HadDiabetes'], normalize='columns') * 100\n",
    "cross_tab_reset = cross_tab.reset_index().melt(id_vars='HadKidneyDisease', var_name='HadDiabetes', value_name='Percentage')\n",
    "\n",
    "fig = px.bar(\n",
    "    cross_tab_reset,\n",
    "    x='HadDiabetes',\n",
    "    y='Percentage',\n",
    "    color='HadKidneyDisease',\n",
    "    barmode='stack',\n",
    "    title='Kidney Disease Percentage by Diabetes Status (%)',\n",
    "    text='Percentage',\n",
    "    color_discrete_sequence=['#2E86AB', '#F4B400']\n",
    ")\n",
    "\n",
    "fig.update_traces(texttemplate='%{text:.1f}%', textposition='inside')\n",
    "fig.update_layout(\n",
    "    yaxis_title='Percentage (%)',\n",
    "    xaxis_title='Had Diabetes',\n",
    "    plot_bgcolor='white',\n",
    "    font=dict(size=14),\n",
    "    xaxis_tickangle=0,\n",
    "    legend_title_text='Had Kidney Disease'\n",
    ")\n",
    "\n",
    "fig.show()\n"
   ]
  },
  {
   "cell_type": "code",
   "execution_count": null,
   "id": "04bfa5f1",
   "metadata": {},
   "outputs": [],
   "source": [
    "df.groupby('HadArthritis')['PhysicalHealthDays'].mean()\n"
   ]
  },
  {
   "cell_type": "code",
   "execution_count": null,
   "id": "ff7f2d33-3ecf-4da3-8208-559e798618b0",
   "metadata": {},
   "outputs": [],
   "source": [
    "mean_physical = df.groupby('HadArthritis')['PhysicalHealthDays'].mean().reset_index()\n",
    "\n",
    "plt.figure(figsize=(6,5))\n",
    "sns.barplot(data=mean_physical, x='HadArthritis', y='PhysicalHealthDays', hue='HadArthritis', palette='Set2', legend=False)\n",
    "\n",
    "plt.title('Average Physical Health Days by Arthritis Status')\n",
    "plt.xlabel('Had Arthritis')\n",
    "plt.ylabel('Average Physical Health Days')\n",
    "\n",
    "for i, val in enumerate(mean_physical['PhysicalHealthDays']):\n",
    "    plt.text(i, val + 0.3, f'{val:.1f}', ha='center', fontsize=11)\n",
    "\n",
    "plt.tight_layout()\n",
    "plt.show()\n"
   ]
  },
  {
   "cell_type": "code",
   "execution_count": null,
   "id": "dfec9a72-cef1-4baf-b1ce-9805d6cb0015",
   "metadata": {},
   "outputs": [],
   "source": []
  },
  {
   "cell_type": "code",
   "execution_count": null,
   "id": "5a4b9da3-c84c-4420-845c-5d756b28d87e",
   "metadata": {},
   "outputs": [],
   "source": []
  },
  {
   "cell_type": "code",
   "execution_count": null,
   "id": "326ff28f-13be-4908-95b5-8761ccc6a635",
   "metadata": {},
   "outputs": [],
   "source": []
  }
 ],
 "metadata": {
  "kernelspec": {
   "display_name": "Python 3.11.9",
   "language": "python",
   "name": "py311"
  },
  "language_info": {
   "codemirror_mode": {
    "name": "ipython",
    "version": 3
   },
   "file_extension": ".py",
   "mimetype": "text/x-python",
   "name": "python",
   "nbconvert_exporter": "python",
   "pygments_lexer": "ipython3",
   "version": "3.12.3"
  }
 },
 "nbformat": 4,
 "nbformat_minor": 5
}
